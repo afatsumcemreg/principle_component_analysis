{
 "cells": [
  {
   "attachments": {},
   "cell_type": "markdown",
   "metadata": {},
   "source": [
    "<h1>Temel Bilesen Analizi (PrincipleComponent Analysis (PCA))</h1>\n",
    "\n",
    "<p>PCA yöntemi,  denetimsiz (unsupervised) makine ogrenimi yontemlerinden biridir. PCA'nin temle fikri, cok degiskenli verinin ana özelliklerini daha az sayida degisken/bilesen ile temsil etmektir. Diger bir ifade ile kucuk miktarda bir bilgi kaybini goz onune alip degisken boyutunu azaltmaktir. Ornegin, elimizde 100 tane degiskenden olusan bir veri seti olsun. Kücük bir bilgi kaybi goz onune alinip veri setindeki 100 degisken sayisini ornegin 3 degisken indirme cabasidir. 100 degisken yerine 3 degisken ile veri setindeki degiskenlik, varyans ve bilgi temsil edilir. Bunun bedeli de ufak miktarda goz ardi edilebilecek bir bilgiden fedakarlik yapmaktir.</p>\n",
    "\n",
    "<h2>Neden boyut indirgeme gibi bir kaygi var?</h2>\n",
    "<p> Bunun nedeni, örnegin dogrusal regresyon problemlerinde coklu dogrusal baglanti probleminden kurtulmak olabilir. Bir diger nedeni, örnegin, bir yüz tanima probleminde resimlere filtre yapma ihtiyaci olabilir. Bir digere deyisle, PCA, gürültü azaltma araci olarak kullanilabilir. Bu orneklerdeki benzer sebepler ile bir sekilde boyut indirgeme ihtiyaci oldugundan bu yontem kullanilabilir.</p>\n",
    "\n",
    "<p>PCA, bir boyut indirgeme yaklasimidir, yani veri setinin boyutunu kücük miktarda bir bilgi kaybinin göze alarak indirgeme islemidir.</p>\n",
    "\n",
    "<img src='https://i.stack.imgur.com/G7Gkv.png' alt='pca'>\n",
    "\n",
    "<h2>PCA, nerede ve ne sekilde ihtiyac görür?</h2>\n",
    "\n",
    "<p>Görüntü, regresyon, bazi varsayim problemlerinde, yani bir sekilde cok boyut soz konusu oldugunda kullanilabilir. Bir sekilde boyut indirgeme isteniyorsa, PCA kullanilabilir.</p>\n",
    "\n",
    "<p>PCA yöntemi, bircok farkli konu ve alanda kullanilabilen temel bir tekniktir. Dolayisiyla sadece dogrudan birsey yapmak icin kullanilmaz. Ancak, örnegin, cok boyutlu bir veriyi örnegin 2 boyuta indirgemek suretiyle görsellestirmek icin kullanilabilir. Veri setinde 50 degiskenin oldugunu varsayalim. Bu, veri setinin 50 boyutlu oldugunu gosterir. Bu veri setini PCA yontemini kullanarak 2 boyuta indirgeyebiliriz. PCA, veri setinin bagimsiz degiskenlerin dogrusal kombinasyonlari ile ifade edilen bilesenlere indirger. Dolayisiyla bu bilesenler arasinda korelasyon yoktur. Teknik olarak, PCA bu bilesenleri PCA1 ve PCA2 olarak nasil cikarir? sorusunun yaniti ise degisken gruplarinin varyanslarini ifade eden oz degerleri ve veri setindeki degiskenleri gruplandirir. Gruplar arasinda en fazyla varyansa sahip olan gruplar, en önemli gruplardir ki bunlara <strong>asal bilesenler</strong> denir. Yani burada varyansa ve oz degerlere dayali bir gruplama yapilmaktadir.</p>\n",
    "\n",
    "<h2>Uygulama</h2>\n",
    "\n",
    "<h3>Kütüphaneleri import etme</h3>"
   ]
  },
  {
   "cell_type": "code",
   "execution_count": 183,
   "metadata": {},
   "outputs": [],
   "source": [
    "import numpy as np\n",
    "import pandas as pd\n",
    "import seaborn as sns\n",
    "import matplotlib.pyplot as plt\n",
    "%matplotlib inline\n",
    "from sklearn.decomposition import PCA\n",
    "from sklearn.preprocessing import StandardScaler, LabelEncoder\n",
    "import warnings\n",
    "warnings.filterwarnings(\"ignore\")\n",
    "\n",
    "from sklearn.linear_model import LinearRegression\n",
    "from sklearn.tree import DecisionTreeRegressor\n",
    "from sklearn.model_selection import cross_val_score, GridSearchCV\n",
    "from sklearn.metrics import mean_squared_error, mean_absolute_error\n",
    "from IPython.core.interactiveshell import InteractiveShell\n",
    "InteractiveShell.ast_node_interactivity = 'all'\n",
    "\n",
    "pd.set_option('display.max_columns', None)\n",
    "pd.set_option('display.width', 500)"
   ]
  },
  {
   "attachments": {},
   "cell_type": "markdown",
   "metadata": {},
   "source": [
    "### Veri setini import etme"
   ]
  },
  {
   "cell_type": "code",
   "execution_count": 184,
   "metadata": {},
   "outputs": [
    {
     "data": {
      "text/html": [
       "<div>\n",
       "<style scoped>\n",
       "    .dataframe tbody tr th:only-of-type {\n",
       "        vertical-align: middle;\n",
       "    }\n",
       "\n",
       "    .dataframe tbody tr th {\n",
       "        vertical-align: top;\n",
       "    }\n",
       "\n",
       "    .dataframe thead th {\n",
       "        text-align: right;\n",
       "    }\n",
       "</style>\n",
       "<table border=\"1\" class=\"dataframe\">\n",
       "  <thead>\n",
       "    <tr style=\"text-align: right;\">\n",
       "      <th></th>\n",
       "      <th>atbat</th>\n",
       "      <th>hits</th>\n",
       "      <th>hmrun</th>\n",
       "      <th>runs</th>\n",
       "      <th>rbi</th>\n",
       "      <th>walks</th>\n",
       "      <th>years</th>\n",
       "      <th>catbat</th>\n",
       "      <th>chits</th>\n",
       "      <th>chmrun</th>\n",
       "      <th>cruns</th>\n",
       "      <th>crbi</th>\n",
       "      <th>cwalks</th>\n",
       "      <th>league</th>\n",
       "      <th>division</th>\n",
       "      <th>putouts</th>\n",
       "      <th>assists</th>\n",
       "      <th>errors</th>\n",
       "      <th>salary</th>\n",
       "      <th>newleague</th>\n",
       "    </tr>\n",
       "  </thead>\n",
       "  <tbody>\n",
       "    <tr>\n",
       "      <th>0</th>\n",
       "      <td>293</td>\n",
       "      <td>66</td>\n",
       "      <td>1</td>\n",
       "      <td>30</td>\n",
       "      <td>29</td>\n",
       "      <td>14</td>\n",
       "      <td>1</td>\n",
       "      <td>293</td>\n",
       "      <td>66</td>\n",
       "      <td>1</td>\n",
       "      <td>30</td>\n",
       "      <td>29</td>\n",
       "      <td>14</td>\n",
       "      <td>A</td>\n",
       "      <td>E</td>\n",
       "      <td>446</td>\n",
       "      <td>33</td>\n",
       "      <td>20</td>\n",
       "      <td>NaN</td>\n",
       "      <td>A</td>\n",
       "    </tr>\n",
       "    <tr>\n",
       "      <th>1</th>\n",
       "      <td>315</td>\n",
       "      <td>81</td>\n",
       "      <td>7</td>\n",
       "      <td>24</td>\n",
       "      <td>38</td>\n",
       "      <td>39</td>\n",
       "      <td>14</td>\n",
       "      <td>3449</td>\n",
       "      <td>835</td>\n",
       "      <td>69</td>\n",
       "      <td>321</td>\n",
       "      <td>414</td>\n",
       "      <td>375</td>\n",
       "      <td>N</td>\n",
       "      <td>W</td>\n",
       "      <td>632</td>\n",
       "      <td>43</td>\n",
       "      <td>10</td>\n",
       "      <td>475.0</td>\n",
       "      <td>N</td>\n",
       "    </tr>\n",
       "    <tr>\n",
       "      <th>2</th>\n",
       "      <td>479</td>\n",
       "      <td>130</td>\n",
       "      <td>18</td>\n",
       "      <td>66</td>\n",
       "      <td>72</td>\n",
       "      <td>76</td>\n",
       "      <td>3</td>\n",
       "      <td>1624</td>\n",
       "      <td>457</td>\n",
       "      <td>63</td>\n",
       "      <td>224</td>\n",
       "      <td>266</td>\n",
       "      <td>263</td>\n",
       "      <td>A</td>\n",
       "      <td>W</td>\n",
       "      <td>880</td>\n",
       "      <td>82</td>\n",
       "      <td>14</td>\n",
       "      <td>480.0</td>\n",
       "      <td>A</td>\n",
       "    </tr>\n",
       "    <tr>\n",
       "      <th>3</th>\n",
       "      <td>496</td>\n",
       "      <td>141</td>\n",
       "      <td>20</td>\n",
       "      <td>65</td>\n",
       "      <td>78</td>\n",
       "      <td>37</td>\n",
       "      <td>11</td>\n",
       "      <td>5628</td>\n",
       "      <td>1575</td>\n",
       "      <td>225</td>\n",
       "      <td>828</td>\n",
       "      <td>838</td>\n",
       "      <td>354</td>\n",
       "      <td>N</td>\n",
       "      <td>E</td>\n",
       "      <td>200</td>\n",
       "      <td>11</td>\n",
       "      <td>3</td>\n",
       "      <td>500.0</td>\n",
       "      <td>N</td>\n",
       "    </tr>\n",
       "    <tr>\n",
       "      <th>4</th>\n",
       "      <td>321</td>\n",
       "      <td>87</td>\n",
       "      <td>10</td>\n",
       "      <td>39</td>\n",
       "      <td>42</td>\n",
       "      <td>30</td>\n",
       "      <td>2</td>\n",
       "      <td>396</td>\n",
       "      <td>101</td>\n",
       "      <td>12</td>\n",
       "      <td>48</td>\n",
       "      <td>46</td>\n",
       "      <td>33</td>\n",
       "      <td>N</td>\n",
       "      <td>E</td>\n",
       "      <td>805</td>\n",
       "      <td>40</td>\n",
       "      <td>4</td>\n",
       "      <td>91.5</td>\n",
       "      <td>N</td>\n",
       "    </tr>\n",
       "  </tbody>\n",
       "</table>\n",
       "</div>"
      ],
      "text/plain": [
       "   atbat  hits  hmrun  runs  rbi  walks  years  catbat  chits  chmrun  cruns  crbi  cwalks league division  putouts  assists  errors  salary newleague\n",
       "0    293    66      1    30   29     14      1     293     66       1     30    29      14      A        E      446       33      20     NaN         A\n",
       "1    315    81      7    24   38     39     14    3449    835      69    321   414     375      N        W      632       43      10   475.0         N\n",
       "2    479   130     18    66   72     76      3    1624    457      63    224   266     263      A        W      880       82      14   480.0         A\n",
       "3    496   141     20    65   78     37     11    5628   1575     225    828   838     354      N        E      200       11       3   500.0         N\n",
       "4    321    87     10    39   42     30      2     396    101      12     48    46      33      N        E      805       40       4    91.5         N"
      ]
     },
     "execution_count": 184,
     "metadata": {},
     "output_type": "execute_result"
    }
   ],
   "source": [
    "df = pd.read_csv(r'C:\\Users\\test\\Desktop\\Bootcamp_Prime\\hitters.csv')\n",
    "df.columns = [col.lower() for col in df.columns]\n",
    "df.head()"
   ]
  },
  {
   "attachments": {},
   "cell_type": "markdown",
   "metadata": {},
   "source": [
    "Bu calisma, PCA ile ilgili oldugundan ve veri setindeki kategorik ve bagimli degisken ile ilgilenmedigimizden dolayi bunlar veri setinden uzaklastirilmistir. Dolayisiyla, elde edilen degiskenler, calisilmak istenilen veri setini olusturmaktadir. "
   ]
  },
  {
   "cell_type": "code",
   "execution_count": 185,
   "metadata": {},
   "outputs": [
    {
     "data": {
      "text/html": [
       "<div>\n",
       "<style scoped>\n",
       "    .dataframe tbody tr th:only-of-type {\n",
       "        vertical-align: middle;\n",
       "    }\n",
       "\n",
       "    .dataframe tbody tr th {\n",
       "        vertical-align: top;\n",
       "    }\n",
       "\n",
       "    .dataframe thead th {\n",
       "        text-align: right;\n",
       "    }\n",
       "</style>\n",
       "<table border=\"1\" class=\"dataframe\">\n",
       "  <thead>\n",
       "    <tr style=\"text-align: right;\">\n",
       "      <th></th>\n",
       "      <th>atbat</th>\n",
       "      <th>hits</th>\n",
       "      <th>hmrun</th>\n",
       "      <th>runs</th>\n",
       "      <th>rbi</th>\n",
       "      <th>walks</th>\n",
       "      <th>years</th>\n",
       "      <th>catbat</th>\n",
       "      <th>chits</th>\n",
       "      <th>chmrun</th>\n",
       "      <th>cruns</th>\n",
       "      <th>crbi</th>\n",
       "      <th>cwalks</th>\n",
       "      <th>putouts</th>\n",
       "      <th>assists</th>\n",
       "      <th>errors</th>\n",
       "    </tr>\n",
       "  </thead>\n",
       "  <tbody>\n",
       "    <tr>\n",
       "      <th>0</th>\n",
       "      <td>293</td>\n",
       "      <td>66</td>\n",
       "      <td>1</td>\n",
       "      <td>30</td>\n",
       "      <td>29</td>\n",
       "      <td>14</td>\n",
       "      <td>1</td>\n",
       "      <td>293</td>\n",
       "      <td>66</td>\n",
       "      <td>1</td>\n",
       "      <td>30</td>\n",
       "      <td>29</td>\n",
       "      <td>14</td>\n",
       "      <td>446</td>\n",
       "      <td>33</td>\n",
       "      <td>20</td>\n",
       "    </tr>\n",
       "    <tr>\n",
       "      <th>1</th>\n",
       "      <td>315</td>\n",
       "      <td>81</td>\n",
       "      <td>7</td>\n",
       "      <td>24</td>\n",
       "      <td>38</td>\n",
       "      <td>39</td>\n",
       "      <td>14</td>\n",
       "      <td>3449</td>\n",
       "      <td>835</td>\n",
       "      <td>69</td>\n",
       "      <td>321</td>\n",
       "      <td>414</td>\n",
       "      <td>375</td>\n",
       "      <td>632</td>\n",
       "      <td>43</td>\n",
       "      <td>10</td>\n",
       "    </tr>\n",
       "    <tr>\n",
       "      <th>2</th>\n",
       "      <td>479</td>\n",
       "      <td>130</td>\n",
       "      <td>18</td>\n",
       "      <td>66</td>\n",
       "      <td>72</td>\n",
       "      <td>76</td>\n",
       "      <td>3</td>\n",
       "      <td>1624</td>\n",
       "      <td>457</td>\n",
       "      <td>63</td>\n",
       "      <td>224</td>\n",
       "      <td>266</td>\n",
       "      <td>263</td>\n",
       "      <td>880</td>\n",
       "      <td>82</td>\n",
       "      <td>14</td>\n",
       "    </tr>\n",
       "    <tr>\n",
       "      <th>3</th>\n",
       "      <td>496</td>\n",
       "      <td>141</td>\n",
       "      <td>20</td>\n",
       "      <td>65</td>\n",
       "      <td>78</td>\n",
       "      <td>37</td>\n",
       "      <td>11</td>\n",
       "      <td>5628</td>\n",
       "      <td>1575</td>\n",
       "      <td>225</td>\n",
       "      <td>828</td>\n",
       "      <td>838</td>\n",
       "      <td>354</td>\n",
       "      <td>200</td>\n",
       "      <td>11</td>\n",
       "      <td>3</td>\n",
       "    </tr>\n",
       "    <tr>\n",
       "      <th>4</th>\n",
       "      <td>321</td>\n",
       "      <td>87</td>\n",
       "      <td>10</td>\n",
       "      <td>39</td>\n",
       "      <td>42</td>\n",
       "      <td>30</td>\n",
       "      <td>2</td>\n",
       "      <td>396</td>\n",
       "      <td>101</td>\n",
       "      <td>12</td>\n",
       "      <td>48</td>\n",
       "      <td>46</td>\n",
       "      <td>33</td>\n",
       "      <td>805</td>\n",
       "      <td>40</td>\n",
       "      <td>4</td>\n",
       "    </tr>\n",
       "  </tbody>\n",
       "</table>\n",
       "</div>"
      ],
      "text/plain": [
       "   atbat  hits  hmrun  runs  rbi  walks  years  catbat  chits  chmrun  cruns  crbi  cwalks  putouts  assists  errors\n",
       "0    293    66      1    30   29     14      1     293     66       1     30    29      14      446       33      20\n",
       "1    315    81      7    24   38     39     14    3449    835      69    321   414     375      632       43      10\n",
       "2    479   130     18    66   72     76      3    1624    457      63    224   266     263      880       82      14\n",
       "3    496   141     20    65   78     37     11    5628   1575     225    828   838     354      200       11       3\n",
       "4    321    87     10    39   42     30      2     396    101      12     48    46      33      805       40       4"
      ]
     },
     "execution_count": 185,
     "metadata": {},
     "output_type": "execute_result"
    }
   ],
   "source": [
    "num_cols = [col for col in df.columns if df[col].dtype != \"O\" and 'salary' not in col]\n",
    "df_pca = df[num_cols]\n",
    "df_pca.head()"
   ]
  },
  {
   "attachments": {},
   "cell_type": "markdown",
   "metadata": {},
   "source": [
    "Veri setindeki eksik degerler simdilik ilgi alani olmadigindan dolayi, veri setinden silinmistir. Cunku buradaki amac, cok degiskenlei bir verinin daha az degisken ile ifade edilmesidir. Ornegin, 16 degiskenli bir veri setinin 2 veya 3 bilesene indirgeme gibi. "
   ]
  },
  {
   "cell_type": "code",
   "execution_count": 186,
   "metadata": {},
   "outputs": [
    {
     "name": "stdout",
     "output_type": "stream",
     "text": [
      "Veri setindeki gozlemlerin ve kolonlarin sayisi sirasiyla 322 ve 16 dir.\n"
     ]
    }
   ],
   "source": [
    "df_pca.dropna(inplace=True)\n",
    "print(f'Veri setindeki gozlemlerin ve kolonlarin sayisi sirasiyla {df_pca.shape[0]} ve {df_pca.shape[1]} dir.')"
   ]
  },
  {
   "attachments": {},
   "cell_type": "markdown",
   "metadata": {},
   "source": [
    "### Veriyi standartlastirma"
   ]
  },
  {
   "cell_type": "code",
   "execution_count": 187,
   "metadata": {},
   "outputs": [
    {
     "data": {
      "text/plain": [
       "array([[-3.24010642e+00, -2.53173003e-01,  7.76065846e-01, ...,\n",
       "         1.93690233e-02,  1.02548346e-02, -2.79525472e-03],\n",
       "       [ 2.45487952e-01,  1.30295065e+00,  1.18039708e-01, ...,\n",
       "         1.09247338e-01,  4.53408016e-02, -2.36402647e-02],\n",
       "       [ 6.03883380e-01, -2.61700162e+00, -6.98183038e-01, ...,\n",
       "         4.09706616e-02,  1.23977727e-02, -8.67195207e-03],\n",
       "       ...,\n",
       "       [-9.51441568e-01, -9.10086229e-01,  2.86517304e-01, ...,\n",
       "        -6.39072785e-02,  6.55138389e-02,  1.69447197e-02],\n",
       "       [ 2.09147322e+00, -2.26582646e+00, -1.92745130e-01, ...,\n",
       "        -3.92784572e-02,  9.78598625e-03, -1.05914910e-02],\n",
       "       [ 1.90562177e+00, -3.11197919e-01, -3.56249054e-01, ...,\n",
       "        -2.89222410e-01, -7.41336701e-02, -2.76080922e-02]])"
      ]
     },
     "execution_count": 187,
     "metadata": {},
     "output_type": "execute_result"
    }
   ],
   "source": [
    "df_pca = StandardScaler().fit_transform(df_pca)\n",
    "pca = PCA()\n",
    "pca_fit = pca.fit_transform(df_pca)\n",
    "pca_fit"
   ]
  },
  {
   "attachments": {},
   "cell_type": "markdown",
   "metadata": {},
   "source": [
    "Bu bilesenlerin basarisi, bilesenlerin acikladigi varyans oranina gore belirlenir. Bilesenlerin acikladigi varyans oranlari aslinda acikladiklari bilgi oranidir."
   ]
  },
  {
   "cell_type": "code",
   "execution_count": 188,
   "metadata": {},
   "outputs": [
    {
     "data": {
      "text/plain": [
       "array([4.60378552e-01, 2.60398491e-01, 1.03388605e-01, 5.36902121e-02,\n",
       "       4.20784091e-02, 2.96359092e-02, 1.57079101e-02, 1.13928108e-02,\n",
       "       7.83230398e-03, 5.87669497e-03, 3.74765194e-03, 3.09384056e-03,\n",
       "       1.55679403e-03, 8.59034766e-04, 2.86873704e-04, 7.59064046e-05])"
      ]
     },
     "execution_count": 188,
     "metadata": {},
     "output_type": "execute_result"
    }
   ],
   "source": [
    "pca.explained_variance_ratio_"
   ]
  },
  {
   "attachments": {},
   "cell_type": "markdown",
   "metadata": {},
   "source": [
    "### Kümülatif varyans oranlarini hesaplama"
   ]
  },
  {
   "cell_type": "code",
   "execution_count": 189,
   "metadata": {},
   "outputs": [
    {
     "data": {
      "text/plain": [
       "array([0.46037855, 0.72077704, 0.82416565, 0.87785586, 0.91993427,\n",
       "       0.94957018, 0.96527809, 0.9766709 , 0.9845032 , 0.9903799 ,\n",
       "       0.99412755, 0.99722139, 0.99877819, 0.99963722, 0.99992409,\n",
       "       1.        ])"
      ]
     },
     "execution_count": 189,
     "metadata": {},
     "output_type": "execute_result"
    }
   ],
   "source": [
    "np.cumsum(pca.explained_variance_ratio_)"
   ]
  },
  {
   "attachments": {},
   "cell_type": "markdown",
   "metadata": {},
   "source": [
    "Bu hesaplama ile elde edilen degerler, PCA'nin oludturdug 16 adet yeni bilesenin hepsinin acikladigi varyans oranidir."
   ]
  },
  {
   "attachments": {},
   "cell_type": "markdown",
   "metadata": {},
   "source": [
    "### Optimum bilesen sayisini belirleme (Elbow metodu)\n",
    "\n",
    "Bu yontem ile en keskin gecisin nerede oldugu belirlenir."
   ]
  },
  {
   "cell_type": "code",
   "execution_count": 190,
   "metadata": {},
   "outputs": [
    {
     "data": {
      "text/plain": [
       "<AxesSubplot:>"
      ]
     },
     "execution_count": 190,
     "metadata": {},
     "output_type": "execute_result"
    },
    {
     "data": {
      "text/plain": [
       "Text(0.5, 0, 'Bilesen sayisi')"
      ]
     },
     "execution_count": 190,
     "metadata": {},
     "output_type": "execute_result"
    },
    {
     "data": {
      "text/plain": [
       "Text(0, 0.5, 'Kümülatif varyans orani')"
      ]
     },
     "execution_count": 190,
     "metadata": {},
     "output_type": "execute_result"
    },
    {
     "data": {
      "image/png": "[encoded data removed]",
      "text/plain": [
       "<Figure size 432x288 with 1 Axes>"
      ]
     },
     "metadata": {
      "needs_background": "light"
     },
     "output_type": "display_data"
    }
   ],
   "source": [
    "pca = PCA().fit(df_pca)\n",
    "sns.lineplot(np.cumsum(pca.explained_variance_ratio_))\n",
    "plt.xlabel('Bilesen sayisi')\n",
    "plt.ylabel('Kümülatif varyans orani')\n",
    "plt.show()"
   ]
  },
  {
   "attachments": {},
   "cell_type": "markdown",
   "metadata": {},
   "source": [
    "Yukaridaki grafik incelendiginde 2 veya 3 tercih edilebilir. Veri gorsellestirme icin kullanildigi durumda 2 boyut secilmelidir. Regresyon problemi ile ilgilenildiginde, coklu dogrusal baglanti problemini gidermek icin degisken sayisi kadar bilesen olusturmak tercih edilebilir. Boylece veri setinin icerisindeki bilginin tamami korunmus olur ancak bu durumda da birbirinden bagimsiz olur. Yuksek koralasyon ve coklu dogrusal baglanti problemlerine sahip olmaz."
   ]
  },
  {
   "attachments": {},
   "cell_type": "markdown",
   "metadata": {},
   "source": [
    "### Final PCA modelini olusturma"
   ]
  },
  {
   "cell_type": "code",
   "execution_count": 191,
   "metadata": {},
   "outputs": [
    {
     "data": {
      "text/plain": [
       "array([0.46037855, 0.26039849, 0.1033886 ])"
      ]
     },
     "execution_count": 191,
     "metadata": {},
     "output_type": "execute_result"
    },
    {
     "data": {
      "text/plain": [
       "array([0.46037855, 0.72077704, 0.82416565])"
      ]
     },
     "execution_count": 191,
     "metadata": {},
     "output_type": "execute_result"
    }
   ],
   "source": [
    "pca = PCA(n_components=3)\n",
    "pca_fit = pca.fit_transform(df_pca)\n",
    "pca.explained_variance_ratio_\n",
    "np.cumsum(pca.explained_variance_ratio_)"
   ]
  },
  {
   "attachments": {},
   "cell_type": "markdown",
   "metadata": {},
   "source": [
    "### Temel bilesen regresyon (PCR) modeli\n",
    "\n",
    "Diyelim ki Hitters veri setini dogrusal bir modelleme ile modellemek istiyoruz ve degiskenler arasinda coklu dogrusal regresyon problemi var. Bu dogrusal regresyon problemlerinde saglanmasi gereken varsayimlardandir. Degiskenler arasinda yüksek korelasyon olmasi, cesitli problemlere neden oldugundan istenmeyen bir durumdur. Diger bir amac ise, yukarida PCA yontemiyle cikarilmis olan bilesenlerin neye karsilik geldigini belirlemeye calismaktir.\n",
    "\n",
    "### Numerik kolonlarin disinda kalanlari getirme"
   ]
  },
  {
   "cell_type": "code",
   "execution_count": 192,
   "metadata": {},
   "outputs": [
    {
     "data": {
      "text/plain": [
       "['league', 'division', 'salary', 'newleague']"
      ]
     },
     "execution_count": 192,
     "metadata": {},
     "output_type": "execute_result"
    }
   ],
   "source": [
    "others = [col for col in df.columns if col not in num_cols]\n",
    "others"
   ]
  },
  {
   "cell_type": "code",
   "execution_count": 193,
   "metadata": {},
   "outputs": [
    {
     "data": {
      "text/html": [
       "<div>\n",
       "<style scoped>\n",
       "    .dataframe tbody tr th:only-of-type {\n",
       "        vertical-align: middle;\n",
       "    }\n",
       "\n",
       "    .dataframe tbody tr th {\n",
       "        vertical-align: top;\n",
       "    }\n",
       "\n",
       "    .dataframe thead th {\n",
       "        text-align: right;\n",
       "    }\n",
       "</style>\n",
       "<table border=\"1\" class=\"dataframe\">\n",
       "  <thead>\n",
       "    <tr style=\"text-align: right;\">\n",
       "      <th></th>\n",
       "      <th>PC1</th>\n",
       "      <th>PC2</th>\n",
       "      <th>PC3</th>\n",
       "    </tr>\n",
       "  </thead>\n",
       "  <tbody>\n",
       "    <tr>\n",
       "      <th>0</th>\n",
       "      <td>-3.240106</td>\n",
       "      <td>-0.253173</td>\n",
       "      <td>0.776066</td>\n",
       "    </tr>\n",
       "    <tr>\n",
       "      <th>1</th>\n",
       "      <td>0.245488</td>\n",
       "      <td>1.302951</td>\n",
       "      <td>0.118040</td>\n",
       "    </tr>\n",
       "    <tr>\n",
       "      <th>2</th>\n",
       "      <td>0.603883</td>\n",
       "      <td>-2.617002</td>\n",
       "      <td>-0.698183</td>\n",
       "    </tr>\n",
       "    <tr>\n",
       "      <th>3</th>\n",
       "      <td>3.591276</td>\n",
       "      <td>0.547821</td>\n",
       "      <td>-1.049022</td>\n",
       "    </tr>\n",
       "    <tr>\n",
       "      <th>4</th>\n",
       "      <td>-2.264528</td>\n",
       "      <td>-0.698898</td>\n",
       "      <td>-1.290536</td>\n",
       "    </tr>\n",
       "  </tbody>\n",
       "</table>\n",
       "</div>"
      ],
      "text/plain": [
       "        PC1       PC2       PC3\n",
       "0 -3.240106 -0.253173  0.776066\n",
       "1  0.245488  1.302951  0.118040\n",
       "2  0.603883 -2.617002 -0.698183\n",
       "3  3.591276  0.547821 -1.049022\n",
       "4 -2.264528 -0.698898 -1.290536"
      ]
     },
     "execution_count": 193,
     "metadata": {},
     "output_type": "execute_result"
    }
   ],
   "source": [
    "pd.DataFrame(pca_fit, columns=['PC1', 'PC2', 'PC3']).head()"
   ]
  },
  {
   "cell_type": "code",
   "execution_count": 194,
   "metadata": {},
   "outputs": [
    {
     "data": {
      "text/html": [
       "<div>\n",
       "<style scoped>\n",
       "    .dataframe tbody tr th:only-of-type {\n",
       "        vertical-align: middle;\n",
       "    }\n",
       "\n",
       "    .dataframe tbody tr th {\n",
       "        vertical-align: top;\n",
       "    }\n",
       "\n",
       "    .dataframe thead th {\n",
       "        text-align: right;\n",
       "    }\n",
       "</style>\n",
       "<table border=\"1\" class=\"dataframe\">\n",
       "  <thead>\n",
       "    <tr style=\"text-align: right;\">\n",
       "      <th></th>\n",
       "      <th>league</th>\n",
       "      <th>division</th>\n",
       "      <th>salary</th>\n",
       "      <th>newleague</th>\n",
       "    </tr>\n",
       "  </thead>\n",
       "  <tbody>\n",
       "    <tr>\n",
       "      <th>0</th>\n",
       "      <td>A</td>\n",
       "      <td>E</td>\n",
       "      <td>NaN</td>\n",
       "      <td>A</td>\n",
       "    </tr>\n",
       "    <tr>\n",
       "      <th>1</th>\n",
       "      <td>N</td>\n",
       "      <td>W</td>\n",
       "      <td>475.0</td>\n",
       "      <td>N</td>\n",
       "    </tr>\n",
       "    <tr>\n",
       "      <th>2</th>\n",
       "      <td>A</td>\n",
       "      <td>W</td>\n",
       "      <td>480.0</td>\n",
       "      <td>A</td>\n",
       "    </tr>\n",
       "    <tr>\n",
       "      <th>3</th>\n",
       "      <td>N</td>\n",
       "      <td>E</td>\n",
       "      <td>500.0</td>\n",
       "      <td>N</td>\n",
       "    </tr>\n",
       "    <tr>\n",
       "      <th>4</th>\n",
       "      <td>N</td>\n",
       "      <td>E</td>\n",
       "      <td>91.5</td>\n",
       "      <td>N</td>\n",
       "    </tr>\n",
       "  </tbody>\n",
       "</table>\n",
       "</div>"
      ],
      "text/plain": [
       "  league division  salary newleague\n",
       "0      A        E     NaN         A\n",
       "1      N        W   475.0         N\n",
       "2      A        W   480.0         A\n",
       "3      N        E   500.0         N\n",
       "4      N        E    91.5         N"
      ]
     },
     "execution_count": 194,
     "metadata": {},
     "output_type": "execute_result"
    }
   ],
   "source": [
    "df[others].head()"
   ]
  },
  {
   "attachments": {},
   "cell_type": "markdown",
   "metadata": {},
   "source": [
    "PCR yöntemiyle once bir temel bilesen yontemi uygulanip degiskenlerin boyutu indirgenmekte ve sonrasinda ise bu bilesenlerin uzerine bir regresyon modeli kurulmaktadir. Bunun dogrudan Python'da uygulandigi bir metot yoktur. Python'da olmayip istatistikte olan bir konu oldugundan dolayi bu islemi veri bilimcinin kendisi yapmalidir. Numerik bilesenlerin secilip bilesenlerce ifade edilmesi ve uzerine regresyon modelinin kurulmasi durumunda temel regresyon modeli olusturulur. Olusturulan bu bilesenler degisken olarak kullanilir. Dolayisiyla 'pca_fit' ve df[others] degiskenleri bir araya getirilir."
   ]
  },
  {
   "cell_type": "code",
   "execution_count": 195,
   "metadata": {},
   "outputs": [
    {
     "data": {
      "text/html": [
       "<div>\n",
       "<style scoped>\n",
       "    .dataframe tbody tr th:only-of-type {\n",
       "        vertical-align: middle;\n",
       "    }\n",
       "\n",
       "    .dataframe tbody tr th {\n",
       "        vertical-align: top;\n",
       "    }\n",
       "\n",
       "    .dataframe thead th {\n",
       "        text-align: right;\n",
       "    }\n",
       "</style>\n",
       "<table border=\"1\" class=\"dataframe\">\n",
       "  <thead>\n",
       "    <tr style=\"text-align: right;\">\n",
       "      <th></th>\n",
       "      <th>PC1</th>\n",
       "      <th>PC2</th>\n",
       "      <th>PC3</th>\n",
       "      <th>league</th>\n",
       "      <th>division</th>\n",
       "      <th>salary</th>\n",
       "      <th>newleague</th>\n",
       "    </tr>\n",
       "  </thead>\n",
       "  <tbody>\n",
       "    <tr>\n",
       "      <th>0</th>\n",
       "      <td>-3.240106</td>\n",
       "      <td>-0.253173</td>\n",
       "      <td>0.776066</td>\n",
       "      <td>A</td>\n",
       "      <td>E</td>\n",
       "      <td>NaN</td>\n",
       "      <td>A</td>\n",
       "    </tr>\n",
       "    <tr>\n",
       "      <th>1</th>\n",
       "      <td>0.245488</td>\n",
       "      <td>1.302951</td>\n",
       "      <td>0.118040</td>\n",
       "      <td>N</td>\n",
       "      <td>W</td>\n",
       "      <td>475.0</td>\n",
       "      <td>N</td>\n",
       "    </tr>\n",
       "    <tr>\n",
       "      <th>2</th>\n",
       "      <td>0.603883</td>\n",
       "      <td>-2.617002</td>\n",
       "      <td>-0.698183</td>\n",
       "      <td>A</td>\n",
       "      <td>W</td>\n",
       "      <td>480.0</td>\n",
       "      <td>A</td>\n",
       "    </tr>\n",
       "    <tr>\n",
       "      <th>3</th>\n",
       "      <td>3.591276</td>\n",
       "      <td>0.547821</td>\n",
       "      <td>-1.049022</td>\n",
       "      <td>N</td>\n",
       "      <td>E</td>\n",
       "      <td>500.0</td>\n",
       "      <td>N</td>\n",
       "    </tr>\n",
       "    <tr>\n",
       "      <th>4</th>\n",
       "      <td>-2.264528</td>\n",
       "      <td>-0.698898</td>\n",
       "      <td>-1.290536</td>\n",
       "      <td>N</td>\n",
       "      <td>E</td>\n",
       "      <td>91.5</td>\n",
       "      <td>N</td>\n",
       "    </tr>\n",
       "  </tbody>\n",
       "</table>\n",
       "</div>"
      ],
      "text/plain": [
       "        PC1       PC2       PC3 league division  salary newleague\n",
       "0 -3.240106 -0.253173  0.776066      A        E     NaN         A\n",
       "1  0.245488  1.302951  0.118040      N        W   475.0         N\n",
       "2  0.603883 -2.617002 -0.698183      A        W   480.0         A\n",
       "3  3.591276  0.547821 -1.049022      N        E   500.0         N\n",
       "4 -2.264528 -0.698898 -1.290536      N        E    91.5         N"
      ]
     },
     "execution_count": 195,
     "metadata": {},
     "output_type": "execute_result"
    }
   ],
   "source": [
    "final_df = pd.concat([pd.DataFrame(pca_fit, columns=['PC1', 'PC2', 'PC3']), df[others]], axis=1)\n",
    "final_df.head()"
   ]
  },
  {
   "attachments": {},
   "cell_type": "markdown",
   "metadata": {},
   "source": [
    "Böylece 16 degiskenin tasidigi bilginin %82'si PC1, PC2 ve PC3 degiskenleri ile temsil edilmektedir. Bu gercek bir ihtyactir. Elde edilen final_df veri setini kullanarak tahminleme yapmak icin lineer ve karar agaci modelleri kullanilmistir. Degiskenleri encode etmek icin label encoding yontemi kullanilmistir.\n",
    "\n",
    "### Label encoding"
   ]
  },
  {
   "cell_type": "code",
   "execution_count": 196,
   "metadata": {},
   "outputs": [],
   "source": [
    "def label_encoder(df, binary_cols):\n",
    "    label_encoder = LabelEncoder()\n",
    "    df[binary_cols] = label_encoder.fit_transform(df[binary_cols])"
   ]
  },
  {
   "cell_type": "code",
   "execution_count": 197,
   "metadata": {},
   "outputs": [
    {
     "data": {
      "text/html": [
       "<div>\n",
       "<style scoped>\n",
       "    .dataframe tbody tr th:only-of-type {\n",
       "        vertical-align: middle;\n",
       "    }\n",
       "\n",
       "    .dataframe tbody tr th {\n",
       "        vertical-align: top;\n",
       "    }\n",
       "\n",
       "    .dataframe thead th {\n",
       "        text-align: right;\n",
       "    }\n",
       "</style>\n",
       "<table border=\"1\" class=\"dataframe\">\n",
       "  <thead>\n",
       "    <tr style=\"text-align: right;\">\n",
       "      <th></th>\n",
       "      <th>PC1</th>\n",
       "      <th>PC2</th>\n",
       "      <th>PC3</th>\n",
       "      <th>league</th>\n",
       "      <th>division</th>\n",
       "      <th>salary</th>\n",
       "      <th>newleague</th>\n",
       "    </tr>\n",
       "  </thead>\n",
       "  <tbody>\n",
       "    <tr>\n",
       "      <th>0</th>\n",
       "      <td>-3.240106</td>\n",
       "      <td>-0.253173</td>\n",
       "      <td>0.776066</td>\n",
       "      <td>0</td>\n",
       "      <td>0</td>\n",
       "      <td>NaN</td>\n",
       "      <td>0</td>\n",
       "    </tr>\n",
       "    <tr>\n",
       "      <th>1</th>\n",
       "      <td>0.245488</td>\n",
       "      <td>1.302951</td>\n",
       "      <td>0.118040</td>\n",
       "      <td>1</td>\n",
       "      <td>1</td>\n",
       "      <td>475.0</td>\n",
       "      <td>1</td>\n",
       "    </tr>\n",
       "    <tr>\n",
       "      <th>2</th>\n",
       "      <td>0.603883</td>\n",
       "      <td>-2.617002</td>\n",
       "      <td>-0.698183</td>\n",
       "      <td>0</td>\n",
       "      <td>1</td>\n",
       "      <td>480.0</td>\n",
       "      <td>0</td>\n",
       "    </tr>\n",
       "    <tr>\n",
       "      <th>3</th>\n",
       "      <td>3.591276</td>\n",
       "      <td>0.547821</td>\n",
       "      <td>-1.049022</td>\n",
       "      <td>1</td>\n",
       "      <td>0</td>\n",
       "      <td>500.0</td>\n",
       "      <td>1</td>\n",
       "    </tr>\n",
       "    <tr>\n",
       "      <th>4</th>\n",
       "      <td>-2.264528</td>\n",
       "      <td>-0.698898</td>\n",
       "      <td>-1.290536</td>\n",
       "      <td>1</td>\n",
       "      <td>0</td>\n",
       "      <td>91.5</td>\n",
       "      <td>1</td>\n",
       "    </tr>\n",
       "  </tbody>\n",
       "</table>\n",
       "</div>"
      ],
      "text/plain": [
       "        PC1       PC2       PC3  league  division  salary  newleague\n",
       "0 -3.240106 -0.253173  0.776066       0         0     NaN          0\n",
       "1  0.245488  1.302951  0.118040       1         1   475.0          1\n",
       "2  0.603883 -2.617002 -0.698183       0         1   480.0          0\n",
       "3  3.591276  0.547821 -1.049022       1         0   500.0          1\n",
       "4 -2.264528 -0.698898 -1.290536       1         0    91.5          1"
      ]
     },
     "execution_count": 197,
     "metadata": {},
     "output_type": "execute_result"
    }
   ],
   "source": [
    "binary_cols = [col for col in final_df.columns if final_df[col].nunique() == 2]\n",
    "for col in binary_cols:\n",
    "    label_encoder(final_df, col)\n",
    "\n",
    "final_df.head()"
   ]
  },
  {
   "attachments": {},
   "cell_type": "markdown",
   "metadata": {},
   "source": [
    "### Bagimli degiskendeki eksik verilerin silinmesi"
   ]
  },
  {
   "cell_type": "code",
   "execution_count": 198,
   "metadata": {},
   "outputs": [
    {
     "data": {
      "text/plain": [
       "(263, 7)"
      ]
     },
     "execution_count": 198,
     "metadata": {},
     "output_type": "execute_result"
    }
   ],
   "source": [
    "final_df.dropna(inplace=True)\n",
    "final_df.shape"
   ]
  },
  {
   "attachments": {},
   "cell_type": "markdown",
   "metadata": {},
   "source": [
    "### Bagimli ve bagimsiz degiskenlerin secilmesi"
   ]
  },
  {
   "cell_type": "code",
   "execution_count": 199,
   "metadata": {},
   "outputs": [],
   "source": [
    "y = final_df['salary']\n",
    "X = final_df.drop('salary', axis=1)"
   ]
  },
  {
   "attachments": {},
   "cell_type": "markdown",
   "metadata": {},
   "source": [
    "### Lineer regresyon modeli"
   ]
  },
  {
   "cell_type": "code",
   "execution_count": 200,
   "metadata": {},
   "outputs": [
    {
     "name": "stdout",
     "output_type": "stream",
     "text": [
      "Hata kareler ortalamasi = 112133.32935389849\n",
      "Ortalama mutlak hata = 228.87439847834383\n",
      "Kök ortalama kare hatasi = 334.8631501881007\n",
      "5 katli capraz dogrulama ile rmse degeri = 345.6021106351967\n"
     ]
    }
   ],
   "source": [
    "lr = LinearRegression().fit(X, y)\n",
    "y_pred = lr.predict(X)\n",
    "print(f'Hata kareler ortalamasi = {mean_squared_error(y, y_pred)}')\n",
    "print(f'Ortalama mutlak hata = {mean_absolute_error(y, y_pred)}')\n",
    "print(f'Kök ortalama kare hatasi = {np.sqrt(mean_squared_error(y, y_pred))}')\n",
    "\n",
    "# 5-katli capraz dogrulama ile rmse degerinin hesaplanmasi\n",
    "print(f'5 katli capraz dogrulama ile rmse degeri = {np.mean(np.sqrt(-cross_val_score(lr, X, y, cv=5, scoring=\"neg_mean_squared_error\")))}')"
   ]
  },
  {
   "cell_type": "code",
   "execution_count": 201,
   "metadata": {},
   "outputs": [
    {
     "data": {
      "text/plain": [
       "<AxesSubplot:xlabel='salary'>"
      ]
     },
     "execution_count": 201,
     "metadata": {},
     "output_type": "execute_result"
    },
    {
     "data": {
      "image/png": "[encoded data removed]",
      "text/plain": [
       "<Figure size 432x288 with 1 Axes>"
      ]
     },
     "metadata": {
      "needs_background": "light"
     },
     "output_type": "display_data"
    }
   ],
   "source": [
    "sns.regplot(x=y, y=y_pred, data=final_df)\n",
    "plt.show()"
   ]
  },
  {
   "attachments": {},
   "cell_type": "markdown",
   "metadata": {},
   "source": [
    "### Agac modeli"
   ]
  },
  {
   "cell_type": "code",
   "execution_count": 202,
   "metadata": {},
   "outputs": [
    {
     "name": "stdout",
     "output_type": "stream",
     "text": [
      "Hata kareler ortalamasi = 112133.32935389849\n",
      "Ortalama mutlak hata = 228.87439847834383\n",
      "Kök ortalama kare hatasi = 334.8631501881007\n",
      "5 katli capraz dogrulama ile rmse degeri = 393.7392317289797\n"
     ]
    }
   ],
   "source": [
    "cart = DecisionTreeRegressor().fit(X, y)\n",
    "y_pred_cart = cart.predict(X)\n",
    "print(f'Hata kareler ortalamasi = {mean_squared_error(y, y_pred)}')\n",
    "print(f'Ortalama mutlak hata = {mean_absolute_error(y, y_pred)}')\n",
    "print(f'Kök ortalama kare hatasi = {np.sqrt(mean_squared_error(y, y_pred))}')\n",
    "\n",
    "# 5-katli capraz dogrulama ile rmse degerinin hesaplanmasi\n",
    "print(f'5 katli capraz dogrulama ile rmse degeri = {np.mean(np.sqrt(-cross_val_score(cart, X, y, cv=5, scoring=\"neg_mean_squared_error\")))}')"
   ]
  },
  {
   "cell_type": "code",
   "execution_count": 203,
   "metadata": {},
   "outputs": [
    {
     "data": {
      "text/plain": [
       "<AxesSubplot:xlabel='salary'>"
      ]
     },
     "execution_count": 203,
     "metadata": {},
     "output_type": "execute_result"
    },
    {
     "data": {
      "image/png": "[encoded data removed]",
      "text/plain": [
       "<Figure size 432x288 with 1 Axes>"
      ]
     },
     "metadata": {
      "needs_background": "light"
     },
     "output_type": "display_data"
    }
   ],
   "source": [
    "sns.regplot(x=y, y=y_pred_cart, data=final_df)\n",
    "plt.show()"
   ]
  },
  {
   "attachments": {},
   "cell_type": "markdown",
   "metadata": {},
   "source": [
    "Yukaridaki grafige gore, modelin overfit oldugu anlasilmaktadir. Nitekim, capraz dogrulamanin yapilmadigi durumda tüm hata degerleri 0 olarak hesaplanmistir."
   ]
  },
  {
   "attachments": {},
   "cell_type": "markdown",
   "metadata": {},
   "source": [
    "### Agac modeli icin hiperparametre optimizasyonu"
   ]
  },
  {
   "cell_type": "code",
   "execution_count": 204,
   "metadata": {},
   "outputs": [
    {
     "name": "stdout",
     "output_type": "stream",
     "text": [
      "Fitting 5 folds for each of 180 candidates, totalling 900 fits\n",
      "GridSearchCV(cv=5, estimator=DecisionTreeRegressor(), n_jobs=-1,\n",
      "             param_grid={'max_depth': range(1, 11),\n",
      "                         'min_samples_split': range(2, 20)},\n",
      "             verbose=True)\n",
      "5 katli capraz dogrulama ile rmse degeri = 330.1964109339104\n"
     ]
    }
   ],
   "source": [
    "params = {'max_depth': range(1, 11),\n",
    "          'min_samples_split': range(2, 20)}\n",
    "\n",
    "best_grid = GridSearchCV(cart, params, cv=5, n_jobs=-1, verbose=True).fit(X, y)\n",
    "print(best_grid)\n",
    "cart_final = cart.set_params(**best_grid.best_params_, random_state=1).fit(X, y)\n",
    "print(f'5 katli capraz dogrulama ile rmse degeri = {np.mean(np.sqrt(-cross_val_score(cart_final, X, y, cv=5, scoring=\"neg_mean_squared_error\")))}')"
   ]
  },
  {
   "cell_type": "code",
   "execution_count": 205,
   "metadata": {},
   "outputs": [
    {
     "data": {
      "text/plain": [
       "<AxesSubplot:xlabel='salary'>"
      ]
     },
     "execution_count": 205,
     "metadata": {},
     "output_type": "execute_result"
    },
    {
     "data": {
      "image/png": "[encoded data removed]",
      "text/plain": [
       "<Figure size 432x288 with 1 Axes>"
      ]
     },
     "metadata": {
      "needs_background": "light"
     },
     "output_type": "display_data"
    }
   ],
   "source": [
    "y_pred_cart_final = cart_final.predict(X)\n",
    "sns.regplot(x=y, y=y_pred_cart_final, data=final_df)\n",
    "plt.show()"
   ]
  },
  {
   "attachments": {},
   "cell_type": "markdown",
   "metadata": {},
   "source": [
    "Sonuc olarak, agac modelinin hiperparametre optimizasyonu sonrasinda elde edilen hata degeri, lineer model ile elde edilen hata degerinden nispeten daha dusuk hesaplanmistir. "
   ]
  },
  {
   "attachments": {},
   "cell_type": "markdown",
   "metadata": {},
   "source": [
    "## PCA görsellestirme\n",
    "\n",
    "Burada amac, PCA ile cok boyutlu bir veriyi iki boyutta gorsellestirmektir.\n",
    "\n",
    "### Veri setini getirme ve bagimli ve bagimsiz degiskenleri secme"
   ]
  },
  {
   "cell_type": "code",
   "execution_count": 206,
   "metadata": {},
   "outputs": [],
   "source": [
    "dff = pd.read_csv(r'C:\\Users\\test\\Desktop\\Bootcamp_Prime\\breast_cancer.csv')\n",
    "y = dff['diagnosis']\n",
    "X = dff.drop(['id', 'diagnosis', 'Unnamed: 32'], axis=1)"
   ]
  },
  {
   "attachments": {},
   "cell_type": "markdown",
   "metadata": {},
   "source": [
    "Bu veri setindeki degiskenler, gorsel veriler uzerinden numerik formlara getirilen degiskenlerdir.\n",
    "\n",
    "### Amaca yonelik veri setini indirgemek icin tanimlanan 'create_pca_df()' fonksiyonu"
   ]
  },
  {
   "cell_type": "code",
   "execution_count": 207,
   "metadata": {},
   "outputs": [
    {
     "data": {
      "text/html": [
       "<div>\n",
       "<style scoped>\n",
       "    .dataframe tbody tr th:only-of-type {\n",
       "        vertical-align: middle;\n",
       "    }\n",
       "\n",
       "    .dataframe tbody tr th {\n",
       "        vertical-align: top;\n",
       "    }\n",
       "\n",
       "    .dataframe thead th {\n",
       "        text-align: right;\n",
       "    }\n",
       "</style>\n",
       "<table border=\"1\" class=\"dataframe\">\n",
       "  <thead>\n",
       "    <tr style=\"text-align: right;\">\n",
       "      <th></th>\n",
       "      <th>PC1</th>\n",
       "      <th>PC2</th>\n",
       "      <th>diagnosis</th>\n",
       "    </tr>\n",
       "  </thead>\n",
       "  <tbody>\n",
       "    <tr>\n",
       "      <th>0</th>\n",
       "      <td>9.192837</td>\n",
       "      <td>1.948583</td>\n",
       "      <td>M</td>\n",
       "    </tr>\n",
       "    <tr>\n",
       "      <th>1</th>\n",
       "      <td>2.387802</td>\n",
       "      <td>-3.768172</td>\n",
       "      <td>M</td>\n",
       "    </tr>\n",
       "    <tr>\n",
       "      <th>2</th>\n",
       "      <td>5.733896</td>\n",
       "      <td>-1.075174</td>\n",
       "      <td>M</td>\n",
       "    </tr>\n",
       "    <tr>\n",
       "      <th>3</th>\n",
       "      <td>7.122953</td>\n",
       "      <td>10.275589</td>\n",
       "      <td>M</td>\n",
       "    </tr>\n",
       "    <tr>\n",
       "      <th>4</th>\n",
       "      <td>3.935302</td>\n",
       "      <td>-1.948072</td>\n",
       "      <td>M</td>\n",
       "    </tr>\n",
       "  </tbody>\n",
       "</table>\n",
       "</div>"
      ],
      "text/plain": [
       "        PC1        PC2 diagnosis\n",
       "0  9.192837   1.948583         M\n",
       "1  2.387802  -3.768172         M\n",
       "2  5.733896  -1.075174         M\n",
       "3  7.122953  10.275589         M\n",
       "4  3.935302  -1.948072         M"
      ]
     },
     "execution_count": 207,
     "metadata": {},
     "output_type": "execute_result"
    }
   ],
   "source": [
    "def create_pca_df(X, y):\n",
    "    X = StandardScaler().fit_transform(X)\n",
    "    pca = PCA(n_components=2)\n",
    "    pca_fit = pca.fit_transform(X)\n",
    "    pca_df = pd.DataFrame(data = pca_fit, columns=['PC1', 'PC2'])\n",
    "    final_df = pd.concat([pca_df, pd.DataFrame(y)], axis=1)\n",
    "    return final_df\n",
    "\n",
    "final_df = create_pca_df(X, y)\n",
    "final_df.head()"
   ]
  },
  {
   "attachments": {},
   "cell_type": "markdown",
   "metadata": {},
   "source": [
    "Boylece veri setinin bagimsiz degiskenleri PC1 ve PC2 olmak uzere iki bilesene indirgenir."
   ]
  },
  {
   "attachments": {},
   "cell_type": "markdown",
   "metadata": {},
   "source": [
    "  ### Veri setinin iki boyuta indirgendikten sonra gorsellestirilmesi"
   ]
  },
  {
   "cell_type": "code",
   "execution_count": 208,
   "metadata": {},
   "outputs": [
    {
     "data": {
      "image/png": "[encoded data removed]",
      "text/plain": [
       "<Figure size 576x360 with 1 Axes>"
      ]
     },
     "metadata": {
      "needs_background": "light"
     },
     "output_type": "display_data"
    }
   ],
   "source": [
    "def plot_pca(dataframe, target):\n",
    "    fig = plt.figure(figsize=(8, 5))\n",
    "    ax = fig.add_subplot(1, 1, 1)\n",
    "    ax.set_xlabel('PC1')\n",
    "    ax.set_ylabel('PC2')\n",
    "    ax.set_title(f'{target.capitalize()}')\n",
    "    targets = list(dataframe[target].unique())\n",
    "    colors = []\n",
    "    while len(colors) != len(targets):\n",
    "        colors.append(list(np.random.random_sample(3)))\n",
    "    \n",
    "    for t, color in zip(targets, colors):\n",
    "        indices = dataframe[target] == t\n",
    "        ax.scatter(dataframe.loc[indices, 'PC1'], dataframe.loc[indices, 'PC2'], color=color, s=50)\n",
    "    \n",
    "    ax.legend(targets)\n",
    "    ax.grid()\n",
    "    plt.show()\n",
    "\n",
    "plot_pca(final_df, 'diagnosis')"
   ]
  },
  {
   "attachments": {},
   "cell_type": "markdown",
   "metadata": {},
   "source": [
    "Yukarida tanimlanan fonksiyon genellenebilirligi yüksek bir fonksiyon oldugundan, bunu test etmek icin baska bir veri seti olan 'iris' veri setine bu fonksiyonu uygulayalim. Bu veri seti, ciceklerin tac ve canak yaprak bilgileri uzerine kurulu bir veri setidir."
   ]
  },
  {
   "cell_type": "code",
   "execution_count": 209,
   "metadata": {},
   "outputs": [],
   "source": [
    "iris = sns.load_dataset('iris')\n",
    "y = iris['species']\n",
    "X = iris.drop('species', axis=1)"
   ]
  },
  {
   "attachments": {},
   "cell_type": "markdown",
   "metadata": {},
   "source": [
    "'create_pca_df' ve 'plot_pca' fonksiyonlari bu anlamda hemen hemen tüm ihtiyaclar icin kullanilabilir. Sadece, bu fonksiyonlara gonderilecek bagimsiz degiskenlerin (X) sayisal degiskenlerden olusmasi gerekmektedir."
   ]
  },
  {
   "cell_type": "code",
   "execution_count": 210,
   "metadata": {},
   "outputs": [
    {
     "data": {
      "text/html": [
       "<div>\n",
       "<style scoped>\n",
       "    .dataframe tbody tr th:only-of-type {\n",
       "        vertical-align: middle;\n",
       "    }\n",
       "\n",
       "    .dataframe tbody tr th {\n",
       "        vertical-align: top;\n",
       "    }\n",
       "\n",
       "    .dataframe thead th {\n",
       "        text-align: right;\n",
       "    }\n",
       "</style>\n",
       "<table border=\"1\" class=\"dataframe\">\n",
       "  <thead>\n",
       "    <tr style=\"text-align: right;\">\n",
       "      <th></th>\n",
       "      <th>PC1</th>\n",
       "      <th>PC2</th>\n",
       "      <th>species</th>\n",
       "    </tr>\n",
       "  </thead>\n",
       "  <tbody>\n",
       "    <tr>\n",
       "      <th>0</th>\n",
       "      <td>-2.264703</td>\n",
       "      <td>0.480027</td>\n",
       "      <td>setosa</td>\n",
       "    </tr>\n",
       "    <tr>\n",
       "      <th>1</th>\n",
       "      <td>-2.080961</td>\n",
       "      <td>-0.674134</td>\n",
       "      <td>setosa</td>\n",
       "    </tr>\n",
       "    <tr>\n",
       "      <th>2</th>\n",
       "      <td>-2.364229</td>\n",
       "      <td>-0.341908</td>\n",
       "      <td>setosa</td>\n",
       "    </tr>\n",
       "    <tr>\n",
       "      <th>3</th>\n",
       "      <td>-2.299384</td>\n",
       "      <td>-0.597395</td>\n",
       "      <td>setosa</td>\n",
       "    </tr>\n",
       "    <tr>\n",
       "      <th>4</th>\n",
       "      <td>-2.389842</td>\n",
       "      <td>0.646835</td>\n",
       "      <td>setosa</td>\n",
       "    </tr>\n",
       "  </tbody>\n",
       "</table>\n",
       "</div>"
      ],
      "text/plain": [
       "        PC1       PC2 species\n",
       "0 -2.264703  0.480027  setosa\n",
       "1 -2.080961 -0.674134  setosa\n",
       "2 -2.364229 -0.341908  setosa\n",
       "3 -2.299384 -0.597395  setosa\n",
       "4 -2.389842  0.646835  setosa"
      ]
     },
     "execution_count": 210,
     "metadata": {},
     "output_type": "execute_result"
    }
   ],
   "source": [
    "final_df = create_pca_df(X, y)\n",
    "final_df.head()"
   ]
  },
  {
   "cell_type": "code",
   "execution_count": 211,
   "metadata": {},
   "outputs": [
    {
     "data": {
      "image/png": "[encoded data removed]",
      "text/plain": [
       "<Figure size 576x360 with 1 Axes>"
      ]
     },
     "metadata": {
      "needs_background": "light"
     },
     "output_type": "display_data"
    }
   ],
   "source": [
    "plot_pca(final_df, 'species')"
   ]
  },
  {
   "attachments": {},
   "cell_type": "markdown",
   "metadata": {},
   "source": [
    "'iris' veri setine gore 'breast_cancer' veri setinin bilesenleri daha fazla birbirine gecmis gibi gozukmektedir. Diger senaryolara gore daha fazla ic ice gecme durumu var. 'breast_cancer' ve 'iris' veri setinin siniflandirma problemine odaklanildiginda, bunlarin siniflarinin birbirinden daha kolay ayrildigi gorulmektedir. "
   ]
  },
  {
   "attachments": {},
   "cell_type": "markdown",
   "metadata": {},
   "source": [
    "# Thank you for checking my notebook!"
   ]
  }
 ],
 "metadata": {
  "kernelspec": {
   "display_name": "Python 3",
   "language": "python",
   "name": "python3"
  },
  "language_info": {
   "codemirror_mode": {
    "name": "ipython",
    "version": 3
   },
   "file_extension": ".py",
   "mimetype": "text/x-python",
   "name": "python",
   "nbconvert_exporter": "python",
   "pygments_lexer": "ipython3",
   "version": "3.10.9"
  },
  "orig_nbformat": 4
 },
 "nbformat": 4,
 "nbformat_minor": 2
}
